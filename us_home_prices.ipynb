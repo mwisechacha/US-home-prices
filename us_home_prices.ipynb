{
 "cells": [
  {
   "cell_type": "markdown",
   "metadata": {},
   "source": [
    "## Data Science Model that predicts the price of a house based on its features\n",
    "\n",
    "### 1. Problem definition\n",
    "\n",
    "Can we find a model that explains how these factors affect the use housing prices\n",
    "\n",
    "### 2. Data\n",
    "\n",
    "The data was originally collected from https://fred.stlouisfed.org/series/CSUSHPISA%5D\n",
    "The macroeconomic factors were collected from https://www.kaggle.com/datasets/faryarmemon/usa-housing-market-factors\n",
    "\n",
    "### 3. Evaluation\n",
    "\n",
    "### 4. Features\n",
    "*the data dictionary*\n",
    "\n",
    "Independent Variables\n",
    "1. Date\n",
    "2. Population\n",
    "3. House supply\n",
    "4. GDP\n",
    "5. Morgage rate\n",
    "6. employment rate\n",
    "7. permit new\n",
    "8. ppi res\n",
    "9. m3\n",
    "10. cci\n",
    "11. delinquency rate\n",
    "12. hcai\n",
    "\n",
    "Dependent Vairables\n",
    "1. House_price_index"
   ]
  },
  {
   "cell_type": "code",
   "execution_count": 71,
   "metadata": {},
   "outputs": [],
   "source": [
    "# importing the EDA and ploting libraries\n",
    "import pandas as pd\n",
    "import numpy as np\n",
    "import matplotlib.pyplot as plt\n",
    "import seaborn as sns\n",
    "\n",
    "# importing sklearn libraries\n",
    "from sklearn.model_selection import train_test_split\n",
    "from sklearn.linear_model import LinearRegression, Lasso, Ridge\n",
    "\n",
    "# Models for feature scaling\n",
    "from sklearn.preprocessing import StandardScaler\n",
    "\n",
    "# Models for evaluation\n",
    "from sklearn.metrics import mean_squared_log_error, mean_absolute_error, r2_score\n"
   ]
  },
  {
   "cell_type": "markdown",
   "metadata": {},
   "source": [
    "### Load Data"
   ]
  },
  {
   "cell_type": "code",
   "execution_count": 5,
   "metadata": {},
   "outputs": [
    {
     "data": {
      "text/html": [
       "<div>\n",
       "<style scoped>\n",
       "    .dataframe tbody tr th:only-of-type {\n",
       "        vertical-align: middle;\n",
       "    }\n",
       "\n",
       "    .dataframe tbody tr th {\n",
       "        vertical-align: top;\n",
       "    }\n",
       "\n",
       "    .dataframe thead th {\n",
       "        text-align: right;\n",
       "    }\n",
       "</style>\n",
       "<table border=\"1\" class=\"dataframe\">\n",
       "  <thead>\n",
       "    <tr style=\"text-align: right;\">\n",
       "      <th></th>\n",
       "      <th>Date</th>\n",
       "      <th>house_price_index</th>\n",
       "      <th>population</th>\n",
       "      <th>house_supply</th>\n",
       "      <th>gdp</th>\n",
       "      <th>mortgage_rate</th>\n",
       "      <th>employment_rate</th>\n",
       "      <th>permit_new</th>\n",
       "      <th>ppi_res</th>\n",
       "      <th>m3</th>\n",
       "      <th>cci</th>\n",
       "      <th>delinquency_rate</th>\n",
       "      <th>hcai</th>\n",
       "    </tr>\n",
       "  </thead>\n",
       "  <tbody>\n",
       "    <tr>\n",
       "      <th>0</th>\n",
       "      <td>1987-01-01</td>\n",
       "      <td>63.965</td>\n",
       "      <td>241857</td>\n",
       "      <td>6.0</td>\n",
       "      <td>99.902813</td>\n",
       "      <td>9.2040</td>\n",
       "      <td>70.163085</td>\n",
       "      <td>1690.0</td>\n",
       "      <td>100.0</td>\n",
       "      <td>2.7439</td>\n",
       "      <td>100.4624</td>\n",
       "      <td>NaN</td>\n",
       "      <td>NaN</td>\n",
       "    </tr>\n",
       "    <tr>\n",
       "      <th>1</th>\n",
       "      <td>1987-02-01</td>\n",
       "      <td>64.424</td>\n",
       "      <td>242005</td>\n",
       "      <td>6.2</td>\n",
       "      <td>99.875864</td>\n",
       "      <td>9.0825</td>\n",
       "      <td>70.289205</td>\n",
       "      <td>1689.0</td>\n",
       "      <td>100.4</td>\n",
       "      <td>2.7475</td>\n",
       "      <td>100.4945</td>\n",
       "      <td>NaN</td>\n",
       "      <td>NaN</td>\n",
       "    </tr>\n",
       "    <tr>\n",
       "      <th>2</th>\n",
       "      <td>1987-03-01</td>\n",
       "      <td>64.735</td>\n",
       "      <td>242166</td>\n",
       "      <td>6.0</td>\n",
       "      <td>99.869734</td>\n",
       "      <td>9.0350</td>\n",
       "      <td>70.321678</td>\n",
       "      <td>1704.0</td>\n",
       "      <td>100.7</td>\n",
       "      <td>2.7537</td>\n",
       "      <td>100.5720</td>\n",
       "      <td>NaN</td>\n",
       "      <td>NaN</td>\n",
       "    </tr>\n",
       "    <tr>\n",
       "      <th>3</th>\n",
       "      <td>1987-04-01</td>\n",
       "      <td>65.132</td>\n",
       "      <td>242338</td>\n",
       "      <td>6.0</td>\n",
       "      <td>99.882087</td>\n",
       "      <td>9.8325</td>\n",
       "      <td>70.499062</td>\n",
       "      <td>1601.0</td>\n",
       "      <td>101.1</td>\n",
       "      <td>2.7677</td>\n",
       "      <td>100.6568</td>\n",
       "      <td>NaN</td>\n",
       "      <td>NaN</td>\n",
       "    </tr>\n",
       "    <tr>\n",
       "      <th>4</th>\n",
       "      <td>1987-05-01</td>\n",
       "      <td>65.565</td>\n",
       "      <td>242516</td>\n",
       "      <td>6.7</td>\n",
       "      <td>99.910371</td>\n",
       "      <td>10.5960</td>\n",
       "      <td>70.808308</td>\n",
       "      <td>1500.0</td>\n",
       "      <td>101.3</td>\n",
       "      <td>2.7729</td>\n",
       "      <td>100.6919</td>\n",
       "      <td>NaN</td>\n",
       "      <td>NaN</td>\n",
       "    </tr>\n",
       "  </tbody>\n",
       "</table>\n",
       "</div>"
      ],
      "text/plain": [
       "         Date  house_price_index  population  house_supply        gdp  \\\n",
       "0  1987-01-01             63.965      241857           6.0  99.902813   \n",
       "1  1987-02-01             64.424      242005           6.2  99.875864   \n",
       "2  1987-03-01             64.735      242166           6.0  99.869734   \n",
       "3  1987-04-01             65.132      242338           6.0  99.882087   \n",
       "4  1987-05-01             65.565      242516           6.7  99.910371   \n",
       "\n",
       "   mortgage_rate  employment_rate  permit_new  ppi_res      m3       cci  \\\n",
       "0         9.2040        70.163085      1690.0    100.0  2.7439  100.4624   \n",
       "1         9.0825        70.289205      1689.0    100.4  2.7475  100.4945   \n",
       "2         9.0350        70.321678      1704.0    100.7  2.7537  100.5720   \n",
       "3         9.8325        70.499062      1601.0    101.1  2.7677  100.6568   \n",
       "4        10.5960        70.808308      1500.0    101.3  2.7729  100.6919   \n",
       "\n",
       "   delinquency_rate  hcai  \n",
       "0               NaN   NaN  \n",
       "1               NaN   NaN  \n",
       "2               NaN   NaN  \n",
       "3               NaN   NaN  \n",
       "4               NaN   NaN  "
      ]
     },
     "execution_count": 5,
     "metadata": {},
     "output_type": "execute_result"
    }
   ],
   "source": [
    "df = pd.read_csv(\"Housing_Macroeconomic_Factors_US (2).csv\")\n",
    "df.head(5)"
   ]
  },
  {
   "cell_type": "code",
   "execution_count": 24,
   "metadata": {},
   "outputs": [
    {
     "data": {
      "text/plain": [
       "(425, 13)"
      ]
     },
     "execution_count": 24,
     "metadata": {},
     "output_type": "execute_result"
    }
   ],
   "source": [
    "df.shape"
   ]
  },
  {
   "cell_type": "code",
   "execution_count": 25,
   "metadata": {},
   "outputs": [
    {
     "name": "stdout",
     "output_type": "stream",
     "text": [
      "<class 'pandas.core.frame.DataFrame'>\n",
      "RangeIndex: 425 entries, 0 to 424\n",
      "Data columns (total 13 columns):\n",
      " #   Column             Non-Null Count  Dtype         \n",
      "---  ------             --------------  -----         \n",
      " 0   Date               425 non-null    datetime64[ns]\n",
      " 1   house_price_index  425 non-null    float64       \n",
      " 2   population         425 non-null    int64         \n",
      " 3   house_supply       425 non-null    float64       \n",
      " 4   gdp                422 non-null    float64       \n",
      " 5   mortgage_rate      422 non-null    float64       \n",
      " 6   employment_rate    422 non-null    float64       \n",
      " 7   permit_new         422 non-null    float64       \n",
      " 8   ppi_res            422 non-null    float64       \n",
      " 9   m3                 422 non-null    float64       \n",
      " 10  cci                422 non-null    float64       \n",
      " 11  delinquency_rate   374 non-null    float64       \n",
      " 12  hcai               285 non-null    float64       \n",
      "dtypes: datetime64[ns](1), float64(11), int64(1)\n",
      "memory usage: 43.3 KB\n"
     ]
    }
   ],
   "source": [
    "# check for missing values\n",
    "df.info()"
   ]
  },
  {
   "cell_type": "code",
   "execution_count": 26,
   "metadata": {},
   "outputs": [
    {
     "data": {
      "text/plain": [
       "Date                   0\n",
       "house_price_index      0\n",
       "population             0\n",
       "house_supply           0\n",
       "gdp                    3\n",
       "mortgage_rate          3\n",
       "employment_rate        3\n",
       "permit_new             3\n",
       "ppi_res                3\n",
       "m3                     3\n",
       "cci                    3\n",
       "delinquency_rate      51\n",
       "hcai                 140\n",
       "dtype: int64"
      ]
     },
     "execution_count": 26,
     "metadata": {},
     "output_type": "execute_result"
    }
   ],
   "source": [
    "df.isnull().sum()"
   ]
  },
  {
   "cell_type": "markdown",
   "metadata": {},
   "source": [
    "Since gdp, mortgage rate, employment_rate, permit_new, ppi_res, m3, cci each have 3 missing values we will drop the missing values"
   ]
  },
  {
   "cell_type": "code",
   "execution_count": 27,
   "metadata": {},
   "outputs": [],
   "source": [
    "# Check if the columns exist in the dataframe\n",
    "columns_to_drop = ['gdp', 'mortgage_rate', 'employment_rate', 'permit_new', 'ppi_res', 'm3', 'cci']\n",
    "existing_columns = [col for col in columns_to_drop if col in df.columns]\n",
    "\n",
    "# Drop rows with missing values in the existing columns\n",
    "df = df.dropna(subset=existing_columns)"
   ]
  },
  {
   "cell_type": "code",
   "execution_count": 28,
   "metadata": {},
   "outputs": [
    {
     "data": {
      "text/plain": [
       "Date                   0\n",
       "house_price_index      0\n",
       "population             0\n",
       "house_supply           0\n",
       "gdp                    0\n",
       "mortgage_rate          0\n",
       "employment_rate        0\n",
       "permit_new             0\n",
       "ppi_res                0\n",
       "m3                     0\n",
       "cci                    0\n",
       "delinquency_rate      48\n",
       "hcai                 137\n",
       "dtype: int64"
      ]
     },
     "execution_count": 28,
     "metadata": {},
     "output_type": "execute_result"
    }
   ],
   "source": [
    "df.isna().sum()"
   ]
  },
  {
   "cell_type": "markdown",
   "metadata": {},
   "source": [
    "Dropping the rows deliquency rate and hcai would lead to loss of important data, we can either drop the columns or replace the missing values with the mean"
   ]
  },
  {
   "cell_type": "code",
   "execution_count": 29,
   "metadata": {},
   "outputs": [],
   "source": [
    "# replacing missing values with the mean\n",
    "df['delinquency_rate'] = df['delinquency_rate'].fillna(df['delinquency_rate'].mean())\n",
    "df['hcai'] = df['hcai'].fillna(df['hcai'].mean())\n"
   ]
  },
  {
   "cell_type": "code",
   "execution_count": 30,
   "metadata": {},
   "outputs": [
    {
     "data": {
      "text/plain": [
       "Date                 0\n",
       "house_price_index    0\n",
       "population           0\n",
       "house_supply         0\n",
       "gdp                  0\n",
       "mortgage_rate        0\n",
       "employment_rate      0\n",
       "permit_new           0\n",
       "ppi_res              0\n",
       "m3                   0\n",
       "cci                  0\n",
       "delinquency_rate     0\n",
       "hcai                 0\n",
       "dtype: int64"
      ]
     },
     "execution_count": 30,
     "metadata": {},
     "output_type": "execute_result"
    }
   ],
   "source": [
    "df.isna().sum()"
   ]
  },
  {
   "cell_type": "code",
   "execution_count": 31,
   "metadata": {},
   "outputs": [
    {
     "data": {
      "text/html": [
       "<div>\n",
       "<style scoped>\n",
       "    .dataframe tbody tr th:only-of-type {\n",
       "        vertical-align: middle;\n",
       "    }\n",
       "\n",
       "    .dataframe tbody tr th {\n",
       "        vertical-align: top;\n",
       "    }\n",
       "\n",
       "    .dataframe thead th {\n",
       "        text-align: right;\n",
       "    }\n",
       "</style>\n",
       "<table border=\"1\" class=\"dataframe\">\n",
       "  <thead>\n",
       "    <tr style=\"text-align: right;\">\n",
       "      <th></th>\n",
       "      <th>Date</th>\n",
       "      <th>house_price_index</th>\n",
       "      <th>population</th>\n",
       "      <th>house_supply</th>\n",
       "      <th>gdp</th>\n",
       "      <th>mortgage_rate</th>\n",
       "      <th>employment_rate</th>\n",
       "      <th>permit_new</th>\n",
       "      <th>ppi_res</th>\n",
       "      <th>m3</th>\n",
       "      <th>cci</th>\n",
       "      <th>delinquency_rate</th>\n",
       "      <th>hcai</th>\n",
       "    </tr>\n",
       "  </thead>\n",
       "  <tbody>\n",
       "    <tr>\n",
       "      <th>count</th>\n",
       "      <td>422</td>\n",
       "      <td>422.000000</td>\n",
       "      <td>422.00000</td>\n",
       "      <td>422.000000</td>\n",
       "      <td>422.000000</td>\n",
       "      <td>422.000000</td>\n",
       "      <td>422.000000</td>\n",
       "      <td>422.000000</td>\n",
       "      <td>422.000000</td>\n",
       "      <td>422.000000</td>\n",
       "      <td>422.000000</td>\n",
       "      <td>422.000000</td>\n",
       "      <td>422.000000</td>\n",
       "    </tr>\n",
       "    <tr>\n",
       "      <th>mean</th>\n",
       "      <td>2004-07-16 12:40:56.872037888</td>\n",
       "      <td>134.713419</td>\n",
       "      <td>291697.63981</td>\n",
       "      <td>5.797867</td>\n",
       "      <td>99.955457</td>\n",
       "      <td>6.328301</td>\n",
       "      <td>70.759327</td>\n",
       "      <td>1346.962085</td>\n",
       "      <td>166.813685</td>\n",
       "      <td>7.666456</td>\n",
       "      <td>100.124667</td>\n",
       "      <td>3.984947</td>\n",
       "      <td>8.981895</td>\n",
       "    </tr>\n",
       "    <tr>\n",
       "      <th>min</th>\n",
       "      <td>1987-01-01 00:00:00</td>\n",
       "      <td>63.965000</td>\n",
       "      <td>241857.00000</td>\n",
       "      <td>3.300000</td>\n",
       "      <td>91.543057</td>\n",
       "      <td>2.684000</td>\n",
       "      <td>60.261014</td>\n",
       "      <td>513.000000</td>\n",
       "      <td>100.000000</td>\n",
       "      <td>2.743900</td>\n",
       "      <td>96.460330</td>\n",
       "      <td>1.400000</td>\n",
       "      <td>2.293000</td>\n",
       "    </tr>\n",
       "    <tr>\n",
       "      <th>25%</th>\n",
       "      <td>1995-10-08 18:00:00</td>\n",
       "      <td>81.517250</td>\n",
       "      <td>267646.00000</td>\n",
       "      <td>4.400000</td>\n",
       "      <td>99.559318</td>\n",
       "      <td>4.266250</td>\n",
       "      <td>69.317138</td>\n",
       "      <td>1077.250000</td>\n",
       "      <td>133.500000</td>\n",
       "      <td>3.615025</td>\n",
       "      <td>99.106098</td>\n",
       "      <td>2.160000</td>\n",
       "      <td>3.208000</td>\n",
       "    </tr>\n",
       "    <tr>\n",
       "      <th>50%</th>\n",
       "      <td>2004-07-16 12:00:00</td>\n",
       "      <td>139.230500</td>\n",
       "      <td>293476.50000</td>\n",
       "      <td>5.450000</td>\n",
       "      <td>99.977924</td>\n",
       "      <td>6.257250</td>\n",
       "      <td>71.221613</td>\n",
       "      <td>1362.000000</td>\n",
       "      <td>154.750000</td>\n",
       "      <td>6.297450</td>\n",
       "      <td>100.498000</td>\n",
       "      <td>2.840000</td>\n",
       "      <td>8.981895</td>\n",
       "    </tr>\n",
       "    <tr>\n",
       "      <th>75%</th>\n",
       "      <td>2013-04-23 12:00:00</td>\n",
       "      <td>174.215750</td>\n",
       "      <td>316680.50000</td>\n",
       "      <td>6.700000</td>\n",
       "      <td>100.556927</td>\n",
       "      <td>7.912000</td>\n",
       "      <td>72.281388</td>\n",
       "      <td>1614.750000</td>\n",
       "      <td>207.400000</td>\n",
       "      <td>10.617625</td>\n",
       "      <td>101.063150</td>\n",
       "      <td>3.984947</td>\n",
       "      <td>10.491000</td>\n",
       "    </tr>\n",
       "    <tr>\n",
       "      <th>max</th>\n",
       "      <td>2022-02-01 00:00:00</td>\n",
       "      <td>290.371000</td>\n",
       "      <td>332750.00000</td>\n",
       "      <td>12.200000</td>\n",
       "      <td>101.825852</td>\n",
       "      <td>11.260000</td>\n",
       "      <td>74.507436</td>\n",
       "      <td>2263.000000</td>\n",
       "      <td>303.546000</td>\n",
       "      <td>21.749700</td>\n",
       "      <td>102.977600</td>\n",
       "      <td>11.360000</td>\n",
       "      <td>21.774000</td>\n",
       "    </tr>\n",
       "    <tr>\n",
       "      <th>std</th>\n",
       "      <td>NaN</td>\n",
       "      <td>52.027280</td>\n",
       "      <td>28081.13867</td>\n",
       "      <td>1.685884</td>\n",
       "      <td>1.124453</td>\n",
       "      <td>2.209432</td>\n",
       "      <td>2.247253</td>\n",
       "      <td>394.776877</td>\n",
       "      <td>43.943882</td>\n",
       "      <td>4.656247</td>\n",
       "      <td>1.466327</td>\n",
       "      <td>2.741686</td>\n",
       "      <td>5.630835</td>\n",
       "    </tr>\n",
       "  </tbody>\n",
       "</table>\n",
       "</div>"
      ],
      "text/plain": [
       "                                Date  house_price_index    population  \\\n",
       "count                            422         422.000000     422.00000   \n",
       "mean   2004-07-16 12:40:56.872037888         134.713419  291697.63981   \n",
       "min              1987-01-01 00:00:00          63.965000  241857.00000   \n",
       "25%              1995-10-08 18:00:00          81.517250  267646.00000   \n",
       "50%              2004-07-16 12:00:00         139.230500  293476.50000   \n",
       "75%              2013-04-23 12:00:00         174.215750  316680.50000   \n",
       "max              2022-02-01 00:00:00         290.371000  332750.00000   \n",
       "std                              NaN          52.027280   28081.13867   \n",
       "\n",
       "       house_supply         gdp  mortgage_rate  employment_rate   permit_new  \\\n",
       "count    422.000000  422.000000     422.000000       422.000000   422.000000   \n",
       "mean       5.797867   99.955457       6.328301        70.759327  1346.962085   \n",
       "min        3.300000   91.543057       2.684000        60.261014   513.000000   \n",
       "25%        4.400000   99.559318       4.266250        69.317138  1077.250000   \n",
       "50%        5.450000   99.977924       6.257250        71.221613  1362.000000   \n",
       "75%        6.700000  100.556927       7.912000        72.281388  1614.750000   \n",
       "max       12.200000  101.825852      11.260000        74.507436  2263.000000   \n",
       "std        1.685884    1.124453       2.209432         2.247253   394.776877   \n",
       "\n",
       "          ppi_res          m3         cci  delinquency_rate        hcai  \n",
       "count  422.000000  422.000000  422.000000        422.000000  422.000000  \n",
       "mean   166.813685    7.666456  100.124667          3.984947    8.981895  \n",
       "min    100.000000    2.743900   96.460330          1.400000    2.293000  \n",
       "25%    133.500000    3.615025   99.106098          2.160000    3.208000  \n",
       "50%    154.750000    6.297450  100.498000          2.840000    8.981895  \n",
       "75%    207.400000   10.617625  101.063150          3.984947   10.491000  \n",
       "max    303.546000   21.749700  102.977600         11.360000   21.774000  \n",
       "std     43.943882    4.656247    1.466327          2.741686    5.630835  "
      ]
     },
     "execution_count": 31,
     "metadata": {},
     "output_type": "execute_result"
    }
   ],
   "source": [
    "df.describe()"
   ]
  },
  {
   "cell_type": "markdown",
   "metadata": {},
   "source": [
    "### Performing EDA with the date column\n",
    "`parse-date` parameter should be passed will loading the data"
   ]
  },
  {
   "cell_type": "code",
   "execution_count": 22,
   "metadata": {},
   "outputs": [],
   "source": [
    "df = pd.read_csv(\"Housing_Macroeconomic_Factors_US (2).csv\",\n",
    "                 parse_dates=['Date'])"
   ]
  },
  {
   "cell_type": "code",
   "execution_count": 33,
   "metadata": {},
   "outputs": [
    {
     "data": {
      "text/plain": [
       "dtype('<M8[ns]')"
      ]
     },
     "execution_count": 33,
     "metadata": {},
     "output_type": "execute_result"
    }
   ],
   "source": [
    "df.Date.dtype"
   ]
  },
  {
   "cell_type": "code",
   "execution_count": 37,
   "metadata": {},
   "outputs": [
    {
     "data": {
      "text/plain": [
       "<matplotlib.collections.PathCollection at 0x181bd227bb0>"
      ]
     },
     "execution_count": 37,
     "metadata": {},
     "output_type": "execute_result"
    },
    {
     "data": {
      "image/png": "[encoded data removed]",
      "text/plain": [
       "<Figure size 1000x600 with 1 Axes>"
      ]
     },
     "metadata": {},
     "output_type": "display_data"
    }
   ],
   "source": [
    "fig, ax = plt.subplots(figsize=(10, 6))\n",
    "ax.scatter(df['Date'], df['house_price_index'])"
   ]
  },
  {
   "cell_type": "code",
   "execution_count": 38,
   "metadata": {},
   "outputs": [
    {
     "data": {
      "text/html": [
       "<div>\n",
       "<style scoped>\n",
       "    .dataframe tbody tr th:only-of-type {\n",
       "        vertical-align: middle;\n",
       "    }\n",
       "\n",
       "    .dataframe tbody tr th {\n",
       "        vertical-align: top;\n",
       "    }\n",
       "\n",
       "    .dataframe thead th {\n",
       "        text-align: right;\n",
       "    }\n",
       "</style>\n",
       "<table border=\"1\" class=\"dataframe\">\n",
       "  <thead>\n",
       "    <tr style=\"text-align: right;\">\n",
       "      <th></th>\n",
       "      <th>Date</th>\n",
       "      <th>house_price_index</th>\n",
       "      <th>population</th>\n",
       "      <th>house_supply</th>\n",
       "      <th>gdp</th>\n",
       "      <th>mortgage_rate</th>\n",
       "      <th>employment_rate</th>\n",
       "      <th>permit_new</th>\n",
       "      <th>ppi_res</th>\n",
       "      <th>m3</th>\n",
       "      <th>cci</th>\n",
       "      <th>delinquency_rate</th>\n",
       "      <th>hcai</th>\n",
       "    </tr>\n",
       "  </thead>\n",
       "  <tbody>\n",
       "    <tr>\n",
       "      <th>0</th>\n",
       "      <td>1987-01-01</td>\n",
       "      <td>63.965</td>\n",
       "      <td>241857</td>\n",
       "      <td>6.0</td>\n",
       "      <td>99.902813</td>\n",
       "      <td>9.2040</td>\n",
       "      <td>70.163085</td>\n",
       "      <td>1690.0</td>\n",
       "      <td>100.0</td>\n",
       "      <td>2.7439</td>\n",
       "      <td>100.4624</td>\n",
       "      <td>3.984947</td>\n",
       "      <td>8.981895</td>\n",
       "    </tr>\n",
       "    <tr>\n",
       "      <th>1</th>\n",
       "      <td>1987-02-01</td>\n",
       "      <td>64.424</td>\n",
       "      <td>242005</td>\n",
       "      <td>6.2</td>\n",
       "      <td>99.875864</td>\n",
       "      <td>9.0825</td>\n",
       "      <td>70.289205</td>\n",
       "      <td>1689.0</td>\n",
       "      <td>100.4</td>\n",
       "      <td>2.7475</td>\n",
       "      <td>100.4945</td>\n",
       "      <td>3.984947</td>\n",
       "      <td>8.981895</td>\n",
       "    </tr>\n",
       "    <tr>\n",
       "      <th>2</th>\n",
       "      <td>1987-03-01</td>\n",
       "      <td>64.735</td>\n",
       "      <td>242166</td>\n",
       "      <td>6.0</td>\n",
       "      <td>99.869734</td>\n",
       "      <td>9.0350</td>\n",
       "      <td>70.321678</td>\n",
       "      <td>1704.0</td>\n",
       "      <td>100.7</td>\n",
       "      <td>2.7537</td>\n",
       "      <td>100.5720</td>\n",
       "      <td>3.984947</td>\n",
       "      <td>8.981895</td>\n",
       "    </tr>\n",
       "    <tr>\n",
       "      <th>3</th>\n",
       "      <td>1987-04-01</td>\n",
       "      <td>65.132</td>\n",
       "      <td>242338</td>\n",
       "      <td>6.0</td>\n",
       "      <td>99.882087</td>\n",
       "      <td>9.8325</td>\n",
       "      <td>70.499062</td>\n",
       "      <td>1601.0</td>\n",
       "      <td>101.1</td>\n",
       "      <td>2.7677</td>\n",
       "      <td>100.6568</td>\n",
       "      <td>3.984947</td>\n",
       "      <td>8.981895</td>\n",
       "    </tr>\n",
       "    <tr>\n",
       "      <th>4</th>\n",
       "      <td>1987-05-01</td>\n",
       "      <td>65.565</td>\n",
       "      <td>242516</td>\n",
       "      <td>6.7</td>\n",
       "      <td>99.910371</td>\n",
       "      <td>10.5960</td>\n",
       "      <td>70.808308</td>\n",
       "      <td>1500.0</td>\n",
       "      <td>101.3</td>\n",
       "      <td>2.7729</td>\n",
       "      <td>100.6919</td>\n",
       "      <td>3.984947</td>\n",
       "      <td>8.981895</td>\n",
       "    </tr>\n",
       "  </tbody>\n",
       "</table>\n",
       "</div>"
      ],
      "text/plain": [
       "        Date  house_price_index  population  house_supply        gdp  \\\n",
       "0 1987-01-01             63.965      241857           6.0  99.902813   \n",
       "1 1987-02-01             64.424      242005           6.2  99.875864   \n",
       "2 1987-03-01             64.735      242166           6.0  99.869734   \n",
       "3 1987-04-01             65.132      242338           6.0  99.882087   \n",
       "4 1987-05-01             65.565      242516           6.7  99.910371   \n",
       "\n",
       "   mortgage_rate  employment_rate  permit_new  ppi_res      m3       cci  \\\n",
       "0         9.2040        70.163085      1690.0    100.0  2.7439  100.4624   \n",
       "1         9.0825        70.289205      1689.0    100.4  2.7475  100.4945   \n",
       "2         9.0350        70.321678      1704.0    100.7  2.7537  100.5720   \n",
       "3         9.8325        70.499062      1601.0    101.1  2.7677  100.6568   \n",
       "4        10.5960        70.808308      1500.0    101.3  2.7729  100.6919   \n",
       "\n",
       "   delinquency_rate      hcai  \n",
       "0          3.984947  8.981895  \n",
       "1          3.984947  8.981895  \n",
       "2          3.984947  8.981895  \n",
       "3          3.984947  8.981895  \n",
       "4          3.984947  8.981895  "
      ]
     },
     "execution_count": 38,
     "metadata": {},
     "output_type": "execute_result"
    }
   ],
   "source": [
    "df.head(5)"
   ]
  },
  {
   "cell_type": "markdown",
   "metadata": {},
   "source": [
    "#### EDA on the house price index and population\n"
   ]
  },
  {
   "cell_type": "code",
   "execution_count": 53,
   "metadata": {},
   "outputs": [
    {
     "data": {
      "text/plain": [
       "<matplotlib.collections.PathCollection at 0x181c181e6e0>"
      ]
     },
     "execution_count": 53,
     "metadata": {},
     "output_type": "execute_result"
    },
    {
     "data": {
      "image/png": "[encoded data removed]",
      "text/plain": [
       "<Figure size 1000x600 with 1 Axes>"
      ]
     },
     "metadata": {},
     "output_type": "display_data"
    }
   ],
   "source": [
    "# plotting house price index vs population\n",
    "fig, ax = plt.subplots(figsize=(10, 6))\n",
    "ax.scatter(df['population'], df['house_price_index'])"
   ]
  },
  {
   "cell_type": "code",
   "execution_count": 45,
   "metadata": {},
   "outputs": [
    {
     "data": {
      "image/png": "[encoded data removed]",
      "text/plain": [
       "<Figure size 1200x800 with 2 Axes>"
      ]
     },
     "metadata": {},
     "output_type": "display_data"
    }
   ],
   "source": [
    "plt.figure(figsize=(12, 8))\n",
    "sns.heatmap(df.corr(), annot=False, cmap='inferno');"
   ]
  },
  {
   "cell_type": "markdown",
   "metadata": {},
   "source": [
    "#### Training our multiple regression model"
   ]
  },
  {
   "cell_type": "code",
   "execution_count": 47,
   "metadata": {},
   "outputs": [],
   "source": [
    "# splitting the data into features and target variable\n",
    "\n",
    "# random seep\n",
    "np.random.seed(42)\n",
    "\n",
    "# split data into X and y\n",
    "X = df.drop('house_price_index', axis=1)\n",
    "y = df['house_price_index']\n",
    "\n",
    "# split data into train and test sets\n",
    "X_train, X_test, y_train, y_test = train_test_split(X, y, test_size=0.2)"
   ]
  },
  {
   "cell_type": "markdown",
   "metadata": {},
   "source": [
    "#### Feature scaling"
   ]
  },
  {
   "cell_type": "code",
   "execution_count": 54,
   "metadata": {},
   "outputs": [
    {
     "data": {
      "text/html": [
       "<div>\n",
       "<style scoped>\n",
       "    .dataframe tbody tr th:only-of-type {\n",
       "        vertical-align: middle;\n",
       "    }\n",
       "\n",
       "    .dataframe tbody tr th {\n",
       "        vertical-align: top;\n",
       "    }\n",
       "\n",
       "    .dataframe thead th {\n",
       "        text-align: right;\n",
       "    }\n",
       "</style>\n",
       "<table border=\"1\" class=\"dataframe\">\n",
       "  <thead>\n",
       "    <tr style=\"text-align: right;\">\n",
       "      <th></th>\n",
       "      <th>Date</th>\n",
       "      <th>population</th>\n",
       "      <th>house_supply</th>\n",
       "      <th>gdp</th>\n",
       "      <th>mortgage_rate</th>\n",
       "      <th>employment_rate</th>\n",
       "      <th>permit_new</th>\n",
       "      <th>ppi_res</th>\n",
       "      <th>m3</th>\n",
       "      <th>cci</th>\n",
       "      <th>delinquency_rate</th>\n",
       "      <th>hcai</th>\n",
       "    </tr>\n",
       "  </thead>\n",
       "  <tbody>\n",
       "    <tr>\n",
       "      <th>count</th>\n",
       "      <td>337</td>\n",
       "      <td>337.000000</td>\n",
       "      <td>337.000000</td>\n",
       "      <td>337.000000</td>\n",
       "      <td>337.000000</td>\n",
       "      <td>337.000000</td>\n",
       "      <td>337.000000</td>\n",
       "      <td>337.000000</td>\n",
       "      <td>337.000000</td>\n",
       "      <td>337.000000</td>\n",
       "      <td>337.000000</td>\n",
       "      <td>337.000000</td>\n",
       "    </tr>\n",
       "    <tr>\n",
       "      <th>mean</th>\n",
       "      <td>2004-09-27 15:14:25.281899136</td>\n",
       "      <td>292386.540059</td>\n",
       "      <td>5.777745</td>\n",
       "      <td>99.983054</td>\n",
       "      <td>6.291767</td>\n",
       "      <td>70.780208</td>\n",
       "      <td>1352.931751</td>\n",
       "      <td>167.106131</td>\n",
       "      <td>7.629928</td>\n",
       "      <td>100.157951</td>\n",
       "      <td>3.987072</td>\n",
       "      <td>9.114007</td>\n",
       "    </tr>\n",
       "    <tr>\n",
       "      <th>min</th>\n",
       "      <td>1987-02-01 00:00:00</td>\n",
       "      <td>242005.000000</td>\n",
       "      <td>3.300000</td>\n",
       "      <td>91.543057</td>\n",
       "      <td>2.684000</td>\n",
       "      <td>60.261014</td>\n",
       "      <td>521.000000</td>\n",
       "      <td>100.400000</td>\n",
       "      <td>2.747500</td>\n",
       "      <td>96.460330</td>\n",
       "      <td>1.400000</td>\n",
       "      <td>2.293000</td>\n",
       "    </tr>\n",
       "    <tr>\n",
       "      <th>25%</th>\n",
       "      <td>1996-08-01 00:00:00</td>\n",
       "      <td>270130.000000</td>\n",
       "      <td>4.400000</td>\n",
       "      <td>99.580627</td>\n",
       "      <td>4.270000</td>\n",
       "      <td>69.287420</td>\n",
       "      <td>1072.000000</td>\n",
       "      <td>135.700000</td>\n",
       "      <td>3.744000</td>\n",
       "      <td>99.061660</td>\n",
       "      <td>2.150000</td>\n",
       "      <td>3.208000</td>\n",
       "    </tr>\n",
       "    <tr>\n",
       "      <th>50%</th>\n",
       "      <td>2004-11-01 00:00:00</td>\n",
       "      <td>294337.000000</td>\n",
       "      <td>5.400000</td>\n",
       "      <td>100.011006</td>\n",
       "      <td>6.217500</td>\n",
       "      <td>71.265238</td>\n",
       "      <td>1377.000000</td>\n",
       "      <td>156.300000</td>\n",
       "      <td>6.399800</td>\n",
       "      <td>100.528400</td>\n",
       "      <td>2.840000</td>\n",
       "      <td>8.981895</td>\n",
       "    </tr>\n",
       "    <tr>\n",
       "      <th>75%</th>\n",
       "      <td>2013-03-01 00:00:00</td>\n",
       "      <td>316357.000000</td>\n",
       "      <td>6.700000</td>\n",
       "      <td>100.607988</td>\n",
       "      <td>7.852000</td>\n",
       "      <td>72.332203</td>\n",
       "      <td>1610.000000</td>\n",
       "      <td>207.500000</td>\n",
       "      <td>10.550000</td>\n",
       "      <td>101.098700</td>\n",
       "      <td>4.150000</td>\n",
       "      <td>12.708000</td>\n",
       "    </tr>\n",
       "    <tr>\n",
       "      <th>max</th>\n",
       "      <td>2022-02-01 00:00:00</td>\n",
       "      <td>332750.000000</td>\n",
       "      <td>12.200000</td>\n",
       "      <td>101.825852</td>\n",
       "      <td>11.050000</td>\n",
       "      <td>74.507436</td>\n",
       "      <td>2263.000000</td>\n",
       "      <td>303.546000</td>\n",
       "      <td>21.749700</td>\n",
       "      <td>102.977600</td>\n",
       "      <td>11.360000</td>\n",
       "      <td>21.774000</td>\n",
       "    </tr>\n",
       "    <tr>\n",
       "      <th>std</th>\n",
       "      <td>NaN</td>\n",
       "      <td>27372.523872</td>\n",
       "      <td>1.721540</td>\n",
       "      <td>1.184752</td>\n",
       "      <td>2.161765</td>\n",
       "      <td>2.306974</td>\n",
       "      <td>396.476608</td>\n",
       "      <td>42.463312</td>\n",
       "      <td>4.453105</td>\n",
       "      <td>1.479055</td>\n",
       "      <td>2.766047</td>\n",
       "      <td>5.771374</td>\n",
       "    </tr>\n",
       "  </tbody>\n",
       "</table>\n",
       "</div>"
      ],
      "text/plain": [
       "                                Date     population  house_supply         gdp  \\\n",
       "count                            337     337.000000    337.000000  337.000000   \n",
       "mean   2004-09-27 15:14:25.281899136  292386.540059      5.777745   99.983054   \n",
       "min              1987-02-01 00:00:00  242005.000000      3.300000   91.543057   \n",
       "25%              1996-08-01 00:00:00  270130.000000      4.400000   99.580627   \n",
       "50%              2004-11-01 00:00:00  294337.000000      5.400000  100.011006   \n",
       "75%              2013-03-01 00:00:00  316357.000000      6.700000  100.607988   \n",
       "max              2022-02-01 00:00:00  332750.000000     12.200000  101.825852   \n",
       "std                              NaN   27372.523872      1.721540    1.184752   \n",
       "\n",
       "       mortgage_rate  employment_rate   permit_new     ppi_res          m3  \\\n",
       "count     337.000000       337.000000   337.000000  337.000000  337.000000   \n",
       "mean        6.291767        70.780208  1352.931751  167.106131    7.629928   \n",
       "min         2.684000        60.261014   521.000000  100.400000    2.747500   \n",
       "25%         4.270000        69.287420  1072.000000  135.700000    3.744000   \n",
       "50%         6.217500        71.265238  1377.000000  156.300000    6.399800   \n",
       "75%         7.852000        72.332203  1610.000000  207.500000   10.550000   \n",
       "max        11.050000        74.507436  2263.000000  303.546000   21.749700   \n",
       "std         2.161765         2.306974   396.476608   42.463312    4.453105   \n",
       "\n",
       "              cci  delinquency_rate        hcai  \n",
       "count  337.000000        337.000000  337.000000  \n",
       "mean   100.157951          3.987072    9.114007  \n",
       "min     96.460330          1.400000    2.293000  \n",
       "25%     99.061660          2.150000    3.208000  \n",
       "50%    100.528400          2.840000    8.981895  \n",
       "75%    101.098700          4.150000   12.708000  \n",
       "max    102.977600         11.360000   21.774000  \n",
       "std      1.479055          2.766047    5.771374  "
      ]
     },
     "execution_count": 54,
     "metadata": {},
     "output_type": "execute_result"
    }
   ],
   "source": [
    "# before standardization\n",
    "X_train.describe()"
   ]
  },
  {
   "cell_type": "markdown",
   "metadata": {},
   "source": [
    "standardization of the features will be done on the training data to prevent leakage"
   ]
  },
  {
   "cell_type": "code",
   "execution_count": 56,
   "metadata": {},
   "outputs": [
    {
     "data": {
      "text/html": [
       "<div>\n",
       "<style scoped>\n",
       "    .dataframe tbody tr th:only-of-type {\n",
       "        vertical-align: middle;\n",
       "    }\n",
       "\n",
       "    .dataframe tbody tr th {\n",
       "        vertical-align: top;\n",
       "    }\n",
       "\n",
       "    .dataframe thead th {\n",
       "        text-align: right;\n",
       "    }\n",
       "</style>\n",
       "<table border=\"1\" class=\"dataframe\">\n",
       "  <thead>\n",
       "    <tr style=\"text-align: right;\">\n",
       "      <th></th>\n",
       "      <th>Date</th>\n",
       "      <th>population</th>\n",
       "      <th>house_supply</th>\n",
       "      <th>gdp</th>\n",
       "      <th>mortgage_rate</th>\n",
       "      <th>employment_rate</th>\n",
       "      <th>permit_new</th>\n",
       "      <th>ppi_res</th>\n",
       "      <th>m3</th>\n",
       "      <th>cci</th>\n",
       "      <th>delinquency_rate</th>\n",
       "      <th>hcai</th>\n",
       "    </tr>\n",
       "  </thead>\n",
       "  <tbody>\n",
       "    <tr>\n",
       "      <th>count</th>\n",
       "      <td>3.370000e+02</td>\n",
       "      <td>3.370000e+02</td>\n",
       "      <td>3.370000e+02</td>\n",
       "      <td>3.370000e+02</td>\n",
       "      <td>3.370000e+02</td>\n",
       "      <td>3.370000e+02</td>\n",
       "      <td>3.370000e+02</td>\n",
       "      <td>3.370000e+02</td>\n",
       "      <td>3.370000e+02</td>\n",
       "      <td>3.370000e+02</td>\n",
       "      <td>3.370000e+02</td>\n",
       "      <td>3.370000e+02</td>\n",
       "    </tr>\n",
       "    <tr>\n",
       "      <th>mean</th>\n",
       "      <td>-8.960851e-17</td>\n",
       "      <td>3.557985e-16</td>\n",
       "      <td>-2.582833e-16</td>\n",
       "      <td>-2.046764e-14</td>\n",
       "      <td>3.057231e-16</td>\n",
       "      <td>2.817397e-15</td>\n",
       "      <td>-4.216871e-17</td>\n",
       "      <td>6.588861e-17</td>\n",
       "      <td>-1.410016e-16</td>\n",
       "      <td>-1.635092e-14</td>\n",
       "      <td>-2.820032e-16</td>\n",
       "      <td>1.304594e-16</td>\n",
       "    </tr>\n",
       "    <tr>\n",
       "      <th>std</th>\n",
       "      <td>1.001487e+00</td>\n",
       "      <td>1.001487e+00</td>\n",
       "      <td>1.001487e+00</td>\n",
       "      <td>1.001487e+00</td>\n",
       "      <td>1.001487e+00</td>\n",
       "      <td>1.001487e+00</td>\n",
       "      <td>1.001487e+00</td>\n",
       "      <td>1.001487e+00</td>\n",
       "      <td>1.001487e+00</td>\n",
       "      <td>1.001487e+00</td>\n",
       "      <td>1.001487e+00</td>\n",
       "      <td>1.001487e+00</td>\n",
       "    </tr>\n",
       "    <tr>\n",
       "      <th>min</th>\n",
       "      <td>-1.786628e+00</td>\n",
       "      <td>-1.843325e+00</td>\n",
       "      <td>-1.441401e+00</td>\n",
       "      <td>-7.134445e+00</td>\n",
       "      <td>-1.671380e+00</td>\n",
       "      <td>-4.566516e+00</td>\n",
       "      <td>-2.101432e+00</td>\n",
       "      <td>-1.573248e+00</td>\n",
       "      <td>-1.098040e+00</td>\n",
       "      <td>-2.503706e+00</td>\n",
       "      <td>-9.366862e-01</td>\n",
       "      <td>-1.183626e+00</td>\n",
       "    </tr>\n",
       "    <tr>\n",
       "      <th>25%</th>\n",
       "      <td>-8.255233e-01</td>\n",
       "      <td>-8.143069e-01</td>\n",
       "      <td>-8.014880e-01</td>\n",
       "      <td>-3.401770e-01</td>\n",
       "      <td>-9.366297e-01</td>\n",
       "      <td>-6.480383e-01</td>\n",
       "      <td>-7.096244e-01</td>\n",
       "      <td>-7.407060e-01</td>\n",
       "      <td>-8.739311e-01</td>\n",
       "      <td>-7.423128e-01</td>\n",
       "      <td>-6.651380e-01</td>\n",
       "      <td>-1.024849e+00</td>\n",
       "    </tr>\n",
       "    <tr>\n",
       "      <th>50%</th>\n",
       "      <td>9.520997e-03</td>\n",
       "      <td>7.136208e-02</td>\n",
       "      <td>-2.197489e-01</td>\n",
       "      <td>2.362803e-02</td>\n",
       "      <td>-3.440591e-02</td>\n",
       "      <td>2.105576e-01</td>\n",
       "      <td>6.079561e-02</td>\n",
       "      <td>-2.548600e-01</td>\n",
       "      <td>-2.766513e-01</td>\n",
       "      <td>2.508356e-01</td>\n",
       "      <td>-4.153137e-01</td>\n",
       "      <td>-2.292494e-02</td>\n",
       "    </tr>\n",
       "    <tr>\n",
       "      <th>75%</th>\n",
       "      <td>8.523228e-01</td>\n",
       "      <td>8.770146e-01</td>\n",
       "      <td>5.365119e-01</td>\n",
       "      <td>5.282658e-01</td>\n",
       "      <td>7.228135e-01</td>\n",
       "      <td>6.737407e-01</td>\n",
       "      <td>6.493460e-01</td>\n",
       "      <td>9.526797e-01</td>\n",
       "      <td>6.567135e-01</td>\n",
       "      <td>6.369930e-01</td>\n",
       "      <td>5.899056e-02</td>\n",
       "      <td>6.236534e-01</td>\n",
       "    </tr>\n",
       "    <tr>\n",
       "      <th>max</th>\n",
       "      <td>1.755246e+00</td>\n",
       "      <td>1.476790e+00</td>\n",
       "      <td>3.736077e+00</td>\n",
       "      <td>1.557743e+00</td>\n",
       "      <td>2.204360e+00</td>\n",
       "      <td>1.618037e+00</td>\n",
       "      <td>2.298803e+00</td>\n",
       "      <td>3.217901e+00</td>\n",
       "      <td>3.175485e+00</td>\n",
       "      <td>1.909220e+00</td>\n",
       "      <td>2.669474e+00</td>\n",
       "      <td>2.196846e+00</td>\n",
       "    </tr>\n",
       "  </tbody>\n",
       "</table>\n",
       "</div>"
      ],
      "text/plain": [
       "               Date    population  house_supply           gdp  mortgage_rate  \\\n",
       "count  3.370000e+02  3.370000e+02  3.370000e+02  3.370000e+02   3.370000e+02   \n",
       "mean  -8.960851e-17  3.557985e-16 -2.582833e-16 -2.046764e-14   3.057231e-16   \n",
       "std    1.001487e+00  1.001487e+00  1.001487e+00  1.001487e+00   1.001487e+00   \n",
       "min   -1.786628e+00 -1.843325e+00 -1.441401e+00 -7.134445e+00  -1.671380e+00   \n",
       "25%   -8.255233e-01 -8.143069e-01 -8.014880e-01 -3.401770e-01  -9.366297e-01   \n",
       "50%    9.520997e-03  7.136208e-02 -2.197489e-01  2.362803e-02  -3.440591e-02   \n",
       "75%    8.523228e-01  8.770146e-01  5.365119e-01  5.282658e-01   7.228135e-01   \n",
       "max    1.755246e+00  1.476790e+00  3.736077e+00  1.557743e+00   2.204360e+00   \n",
       "\n",
       "       employment_rate    permit_new       ppi_res            m3  \\\n",
       "count     3.370000e+02  3.370000e+02  3.370000e+02  3.370000e+02   \n",
       "mean      2.817397e-15 -4.216871e-17  6.588861e-17 -1.410016e-16   \n",
       "std       1.001487e+00  1.001487e+00  1.001487e+00  1.001487e+00   \n",
       "min      -4.566516e+00 -2.101432e+00 -1.573248e+00 -1.098040e+00   \n",
       "25%      -6.480383e-01 -7.096244e-01 -7.407060e-01 -8.739311e-01   \n",
       "50%       2.105576e-01  6.079561e-02 -2.548600e-01 -2.766513e-01   \n",
       "75%       6.737407e-01  6.493460e-01  9.526797e-01  6.567135e-01   \n",
       "max       1.618037e+00  2.298803e+00  3.217901e+00  3.175485e+00   \n",
       "\n",
       "                cci  delinquency_rate          hcai  \n",
       "count  3.370000e+02      3.370000e+02  3.370000e+02  \n",
       "mean  -1.635092e-14     -2.820032e-16  1.304594e-16  \n",
       "std    1.001487e+00      1.001487e+00  1.001487e+00  \n",
       "min   -2.503706e+00     -9.366862e-01 -1.183626e+00  \n",
       "25%   -7.423128e-01     -6.651380e-01 -1.024849e+00  \n",
       "50%    2.508356e-01     -4.153137e-01 -2.292494e-02  \n",
       "75%    6.369930e-01      5.899056e-02  6.236534e-01  \n",
       "max    1.909220e+00      2.669474e+00  2.196846e+00  "
      ]
     },
     "execution_count": 56,
     "metadata": {},
     "output_type": "execute_result"
    }
   ],
   "source": [
    "# standardization of the features using StandardScaler\n",
    "\n",
    "# convert 'Date' column to numeric representation\n",
    "X_train['Date'] = X_train['Date'].astype(np.int64)\n",
    "X_test['Date'] = X_test['Date'].astype(np.int64)\n",
    "\n",
    "# create an instance of standard scaler\n",
    "scaler = StandardScaler()\n",
    "\n",
    "# standardize the training dataset\n",
    "X_train_transformed = pd.DataFrame(scaler.fit_transform(X_train),\n",
    "                                   index=X_train.index,\n",
    "                                   columns=X_train.columns)\n",
    "\n",
    "# standardize the testing data\n",
    "X_test_transformed = pd.DataFrame(scaler.transform(X_test),\n",
    "                                  index=X_test.index,\n",
    "                                  columns=X_test.columns)\n",
    "\n",
    "# after standardization\n",
    "X_train_transformed.describe()"
   ]
  },
  {
   "cell_type": "markdown",
   "metadata": {},
   "source": [
    "testing on these 3 models, the models were chosen using this map ~ https://scikit-learn.org/stable/tutorial/machine_learning_map/index.html\n",
    "1. linear regressor\n",
    "2. Lasso\n",
    "3. Ridge"
   ]
  },
  {
   "cell_type": "code",
   "execution_count": 59,
   "metadata": {},
   "outputs": [],
   "source": [
    "models = {\n",
    "    'Linear Regression': LinearRegression(),\n",
    "    'Lasso': Lasso(),\n",
    "    'Ridge': Ridge()\n",
    "}\n",
    "\n",
    "# create a function to fit and evaluate the models\n",
    "def fit_and_score(models, X_train, X_test, y_train, y_test):\n",
    "    \"\"\"\n",
    "    Fits and evaluates the machine learning models\n",
    "    models: a dictionary of different Scikit-Learn machine learning models\n",
    "    X_train: training data (no labels)\n",
    "    X_test: testing data (no labels)\n",
    "    y_train: training labels\n",
    "    y_test: testing labels\n",
    "    \"\"\"\n",
    "    # set random seed\n",
    "    np.random.seed(42)\n",
    "    # create an empty dictionary to store the model scores\n",
    "    model_scores = {}\n",
    "    # loop through the models\n",
    "    for name, model in models.items():\n",
    "        # fit the model to the data\n",
    "        model.fit(X_train_transformed, y_train)\n",
    "        # evaluate the model and append its score to model_scores\n",
    "        model_scores[name] = model.score(X_test_transformed, y_test)\n",
    "    return model_scores"
   ]
  },
  {
   "cell_type": "code",
   "execution_count": 60,
   "metadata": {},
   "outputs": [
    {
     "data": {
      "text/plain": [
       "{'Linear Regression': 0.9931370142293826,\n",
       " 'Lasso': 0.9905664380957212,\n",
       " 'Ridge': 0.9925714172380516}"
      ]
     },
     "execution_count": 60,
     "metadata": {},
     "output_type": "execute_result"
    }
   ],
   "source": [
    "model_scores = fit_and_score(models=models,\n",
    "                             X_train=X_train_transformed,\n",
    "                             X_test=X_test_transformed,\n",
    "                             y_train=y_train,\n",
    "                             y_test=y_test)\n",
    "\n",
    "model_scores"
   ]
  },
  {
   "cell_type": "markdown",
   "metadata": {},
   "source": [
    "Since `linear regression` has the highest score, we'll perform predictions and evaluation with it"
   ]
  },
  {
   "cell_type": "code",
   "execution_count": 62,
   "metadata": {},
   "outputs": [
    {
     "data": {
      "text/html": [
       "<style>#sk-container-id-1 {color: black;}#sk-container-id-1 pre{padding: 0;}#sk-container-id-1 div.sk-toggleable {background-color: white;}#sk-container-id-1 label.sk-toggleable__label {cursor: pointer;display: block;width: 100%;margin-bottom: 0;padding: 0.3em;box-sizing: border-box;text-align: center;}#sk-container-id-1 label.sk-toggleable__label-arrow:before {content: \"▸\";float: left;margin-right: 0.25em;color: #696969;}#sk-container-id-1 label.sk-toggleable__label-arrow:hover:before {color: black;}#sk-container-id-1 div.sk-estimator:hover label.sk-toggleable__label-arrow:before {color: black;}#sk-container-id-1 div.sk-toggleable__content {max-height: 0;max-width: 0;overflow: hidden;text-align: left;background-color: #f0f8ff;}#sk-container-id-1 div.sk-toggleable__content pre {margin: 0.2em;color: black;border-radius: 0.25em;background-color: #f0f8ff;}#sk-container-id-1 input.sk-toggleable__control:checked~div.sk-toggleable__content {max-height: 200px;max-width: 100%;overflow: auto;}#sk-container-id-1 input.sk-toggleable__control:checked~label.sk-toggleable__label-arrow:before {content: \"▾\";}#sk-container-id-1 div.sk-estimator input.sk-toggleable__control:checked~label.sk-toggleable__label {background-color: #d4ebff;}#sk-container-id-1 div.sk-label input.sk-toggleable__control:checked~label.sk-toggleable__label {background-color: #d4ebff;}#sk-container-id-1 input.sk-hidden--visually {border: 0;clip: rect(1px 1px 1px 1px);clip: rect(1px, 1px, 1px, 1px);height: 1px;margin: -1px;overflow: hidden;padding: 0;position: absolute;width: 1px;}#sk-container-id-1 div.sk-estimator {font-family: monospace;background-color: #f0f8ff;border: 1px dotted black;border-radius: 0.25em;box-sizing: border-box;margin-bottom: 0.5em;}#sk-container-id-1 div.sk-estimator:hover {background-color: #d4ebff;}#sk-container-id-1 div.sk-parallel-item::after {content: \"\";width: 100%;border-bottom: 1px solid gray;flex-grow: 1;}#sk-container-id-1 div.sk-label:hover label.sk-toggleable__label {background-color: #d4ebff;}#sk-container-id-1 div.sk-serial::before {content: \"\";position: absolute;border-left: 1px solid gray;box-sizing: border-box;top: 0;bottom: 0;left: 50%;z-index: 0;}#sk-container-id-1 div.sk-serial {display: flex;flex-direction: column;align-items: center;background-color: white;padding-right: 0.2em;padding-left: 0.2em;position: relative;}#sk-container-id-1 div.sk-item {position: relative;z-index: 1;}#sk-container-id-1 div.sk-parallel {display: flex;align-items: stretch;justify-content: center;background-color: white;position: relative;}#sk-container-id-1 div.sk-item::before, #sk-container-id-1 div.sk-parallel-item::before {content: \"\";position: absolute;border-left: 1px solid gray;box-sizing: border-box;top: 0;bottom: 0;left: 50%;z-index: -1;}#sk-container-id-1 div.sk-parallel-item {display: flex;flex-direction: column;z-index: 1;position: relative;background-color: white;}#sk-container-id-1 div.sk-parallel-item:first-child::after {align-self: flex-end;width: 50%;}#sk-container-id-1 div.sk-parallel-item:last-child::after {align-self: flex-start;width: 50%;}#sk-container-id-1 div.sk-parallel-item:only-child::after {width: 0;}#sk-container-id-1 div.sk-dashed-wrapped {border: 1px dashed gray;margin: 0 0.4em 0.5em 0.4em;box-sizing: border-box;padding-bottom: 0.4em;background-color: white;}#sk-container-id-1 div.sk-label label {font-family: monospace;font-weight: bold;display: inline-block;line-height: 1.2em;}#sk-container-id-1 div.sk-label-container {text-align: center;}#sk-container-id-1 div.sk-container {/* jupyter's `normalize.less` sets `[hidden] { display: none; }` but bootstrap.min.css set `[hidden] { display: none !important; }` so we also need the `!important` here to be able to override the default hidden behavior on the sphinx rendered scikit-learn.org. See: https://github.com/scikit-learn/scikit-learn/issues/21755 */display: inline-block !important;position: relative;}#sk-container-id-1 div.sk-text-repr-fallback {display: none;}</style><div id=\"sk-container-id-1\" class=\"sk-top-container\"><div class=\"sk-text-repr-fallback\"><pre>LinearRegression()</pre><b>In a Jupyter environment, please rerun this cell to show the HTML representation or trust the notebook. <br />On GitHub, the HTML representation is unable to render, please try loading this page with nbviewer.org.</b></div><div class=\"sk-container\" hidden><div class=\"sk-item\"><div class=\"sk-estimator sk-toggleable\"><input class=\"sk-toggleable__control sk-hidden--visually\" id=\"sk-estimator-id-1\" type=\"checkbox\" checked><label for=\"sk-estimator-id-1\" class=\"sk-toggleable__label sk-toggleable__label-arrow\">LinearRegression</label><div class=\"sk-toggleable__content\"><pre>LinearRegression()</pre></div></div></div></div></div>"
      ],
      "text/plain": [
       "LinearRegression()"
      ]
     },
     "execution_count": 62,
     "metadata": {},
     "output_type": "execute_result"
    }
   ],
   "source": [
    "lin_reg = LinearRegression()\n",
    "lin_reg.fit(X_train_transformed, y_train)"
   ]
  },
  {
   "cell_type": "code",
   "execution_count": 65,
   "metadata": {},
   "outputs": [
    {
     "data": {
      "text/plain": [
       "array([ 97.59384791, 165.35212435, 116.29467191, 193.39983678,\n",
       "       282.50068661,  74.40263375,  81.74331148,  81.93063084,\n",
       "        66.93380916,  75.4100854 ,  75.79227457,  85.79152697,\n",
       "       187.45408736,  88.53319807, 165.79086827, 261.27006506,\n",
       "        65.48111502, 170.77735685, 132.48501061, 183.53518287,\n",
       "       129.95874011, 174.48953051, 177.67066129, 180.46386002,\n",
       "        70.70793899, 179.95193247,  74.63147789, 146.52085805,\n",
       "       134.58664302,  79.41498125, 250.58095188,  81.47422493,\n",
       "       151.77907772, 131.43960062, 183.84190205, 119.50771978,\n",
       "       161.80045121,  79.87504129, 112.20165892, 158.11983304,\n",
       "        71.90406248,  75.04949672, 285.03533402,  73.43998171,\n",
       "        88.07967924, 201.61373542,  98.04399681, 146.52865381,\n",
       "       191.73691804,  64.98730869,  76.83915815, 145.09158416,\n",
       "        64.19297554,  67.21136528, 189.73187805, 138.04310343,\n",
       "       150.56839839, 142.94412405,  74.80422773,  78.45358795,\n",
       "       181.6764572 ,  87.6727892 ,  74.08653001, 207.91255508,\n",
       "       113.43821603, 187.59034514, 154.68583125,  76.87059472,\n",
       "       114.06476808, 246.9459688 ,  78.89506394, 178.56256829,\n",
       "       146.14474231, 138.18225267,  73.8214594 ,  79.55625925,\n",
       "       143.52840442,  83.82196541, 242.05257666, 245.60642793,\n",
       "        72.4522455 , 258.83821367,  67.67713402,  65.56909148,\n",
       "        73.04982738])"
      ]
     },
     "execution_count": 65,
     "metadata": {},
     "output_type": "execute_result"
    }
   ],
   "source": [
    "y_preds = lin_reg.predict(X_test_transformed)\n",
    "y_preds"
   ]
  },
  {
   "cell_type": "markdown",
   "metadata": {},
   "source": [
    "#### Building our evaluation function\n"
   ]
  },
  {
   "cell_type": "code",
   "execution_count": 66,
   "metadata": {},
   "outputs": [],
   "source": [
    "def rmsle(y_test, y_preds):\n",
    "    \"\"\"\n",
    "    Calculates the root mean squared log error between predictions and true labels\n",
    "    \"\"\"\n",
    "    return np.sqrt(mean_squared_log_error(y_test, y_preds))\n",
    "\n",
    "# a function to evaluate the model on different levels\n",
    "def show_scores(model):\n",
    "    train_preds = model.predict(X_train_transformed)\n",
    "    test_preds = model.predict(X_test_transformed)\n",
    "    scores = {\n",
    "        'Training MAE': mean_absolute_error(y_train, train_preds),\n",
    "        'Test MAE': mean_absolute_error(y_test, test_preds),\n",
    "        'Training RMSLE': rmsle(y_train, train_preds),\n",
    "        'Test RMSLE': rmsle(y_test, test_preds),\n",
    "        'Training R^2': r2_score(y_train, train_preds),\n",
    "        'Test R^2': r2_score(y_test, test_preds)\n",
    "    }\n",
    "    return scores"
   ]
  },
  {
   "cell_type": "markdown",
   "metadata": {},
   "source": [
    "#### Testing the model on a subset"
   ]
  },
  {
   "cell_type": "code",
   "execution_count": 67,
   "metadata": {},
   "outputs": [],
   "source": [
    "model = LinearRegression()"
   ]
  },
  {
   "cell_type": "code",
   "execution_count": 69,
   "metadata": {},
   "outputs": [
    {
     "name": "stdout",
     "output_type": "stream",
     "text": [
      "CPU times: total: 0 ns\n",
      "Wall time: 2.47 ms\n"
     ]
    },
    {
     "data": {
      "text/html": [
       "<style>#sk-container-id-3 {color: black;}#sk-container-id-3 pre{padding: 0;}#sk-container-id-3 div.sk-toggleable {background-color: white;}#sk-container-id-3 label.sk-toggleable__label {cursor: pointer;display: block;width: 100%;margin-bottom: 0;padding: 0.3em;box-sizing: border-box;text-align: center;}#sk-container-id-3 label.sk-toggleable__label-arrow:before {content: \"▸\";float: left;margin-right: 0.25em;color: #696969;}#sk-container-id-3 label.sk-toggleable__label-arrow:hover:before {color: black;}#sk-container-id-3 div.sk-estimator:hover label.sk-toggleable__label-arrow:before {color: black;}#sk-container-id-3 div.sk-toggleable__content {max-height: 0;max-width: 0;overflow: hidden;text-align: left;background-color: #f0f8ff;}#sk-container-id-3 div.sk-toggleable__content pre {margin: 0.2em;color: black;border-radius: 0.25em;background-color: #f0f8ff;}#sk-container-id-3 input.sk-toggleable__control:checked~div.sk-toggleable__content {max-height: 200px;max-width: 100%;overflow: auto;}#sk-container-id-3 input.sk-toggleable__control:checked~label.sk-toggleable__label-arrow:before {content: \"▾\";}#sk-container-id-3 div.sk-estimator input.sk-toggleable__control:checked~label.sk-toggleable__label {background-color: #d4ebff;}#sk-container-id-3 div.sk-label input.sk-toggleable__control:checked~label.sk-toggleable__label {background-color: #d4ebff;}#sk-container-id-3 input.sk-hidden--visually {border: 0;clip: rect(1px 1px 1px 1px);clip: rect(1px, 1px, 1px, 1px);height: 1px;margin: -1px;overflow: hidden;padding: 0;position: absolute;width: 1px;}#sk-container-id-3 div.sk-estimator {font-family: monospace;background-color: #f0f8ff;border: 1px dotted black;border-radius: 0.25em;box-sizing: border-box;margin-bottom: 0.5em;}#sk-container-id-3 div.sk-estimator:hover {background-color: #d4ebff;}#sk-container-id-3 div.sk-parallel-item::after {content: \"\";width: 100%;border-bottom: 1px solid gray;flex-grow: 1;}#sk-container-id-3 div.sk-label:hover label.sk-toggleable__label {background-color: #d4ebff;}#sk-container-id-3 div.sk-serial::before {content: \"\";position: absolute;border-left: 1px solid gray;box-sizing: border-box;top: 0;bottom: 0;left: 50%;z-index: 0;}#sk-container-id-3 div.sk-serial {display: flex;flex-direction: column;align-items: center;background-color: white;padding-right: 0.2em;padding-left: 0.2em;position: relative;}#sk-container-id-3 div.sk-item {position: relative;z-index: 1;}#sk-container-id-3 div.sk-parallel {display: flex;align-items: stretch;justify-content: center;background-color: white;position: relative;}#sk-container-id-3 div.sk-item::before, #sk-container-id-3 div.sk-parallel-item::before {content: \"\";position: absolute;border-left: 1px solid gray;box-sizing: border-box;top: 0;bottom: 0;left: 50%;z-index: -1;}#sk-container-id-3 div.sk-parallel-item {display: flex;flex-direction: column;z-index: 1;position: relative;background-color: white;}#sk-container-id-3 div.sk-parallel-item:first-child::after {align-self: flex-end;width: 50%;}#sk-container-id-3 div.sk-parallel-item:last-child::after {align-self: flex-start;width: 50%;}#sk-container-id-3 div.sk-parallel-item:only-child::after {width: 0;}#sk-container-id-3 div.sk-dashed-wrapped {border: 1px dashed gray;margin: 0 0.4em 0.5em 0.4em;box-sizing: border-box;padding-bottom: 0.4em;background-color: white;}#sk-container-id-3 div.sk-label label {font-family: monospace;font-weight: bold;display: inline-block;line-height: 1.2em;}#sk-container-id-3 div.sk-label-container {text-align: center;}#sk-container-id-3 div.sk-container {/* jupyter's `normalize.less` sets `[hidden] { display: none; }` but bootstrap.min.css set `[hidden] { display: none !important; }` so we also need the `!important` here to be able to override the default hidden behavior on the sphinx rendered scikit-learn.org. See: https://github.com/scikit-learn/scikit-learn/issues/21755 */display: inline-block !important;position: relative;}#sk-container-id-3 div.sk-text-repr-fallback {display: none;}</style><div id=\"sk-container-id-3\" class=\"sk-top-container\"><div class=\"sk-text-repr-fallback\"><pre>LinearRegression()</pre><b>In a Jupyter environment, please rerun this cell to show the HTML representation or trust the notebook. <br />On GitHub, the HTML representation is unable to render, please try loading this page with nbviewer.org.</b></div><div class=\"sk-container\" hidden><div class=\"sk-item\"><div class=\"sk-estimator sk-toggleable\"><input class=\"sk-toggleable__control sk-hidden--visually\" id=\"sk-estimator-id-3\" type=\"checkbox\" checked><label for=\"sk-estimator-id-3\" class=\"sk-toggleable__label sk-toggleable__label-arrow\">LinearRegression</label><div class=\"sk-toggleable__content\"><pre>LinearRegression()</pre></div></div></div></div></div>"
      ],
      "text/plain": [
       "LinearRegression()"
      ]
     },
     "execution_count": 69,
     "metadata": {},
     "output_type": "execute_result"
    }
   ],
   "source": [
    "%%time\n",
    "model.fit(X_train_transformed, y_train)"
   ]
  },
  {
   "cell_type": "code",
   "execution_count": 72,
   "metadata": {},
   "outputs": [
    {
     "data": {
      "text/plain": [
       "{'Training MAE': 3.663063536510488,\n",
       " 'Test MAE': 3.8587132061022635,\n",
       " 'Training RMSLE': 0.04266333791282436,\n",
       " 'Test RMSLE': 0.04318644970579918,\n",
       " 'Training R^2': 0.9905695164015912,\n",
       " 'Test R^2': 0.9931370142293826}"
      ]
     },
     "execution_count": 72,
     "metadata": {},
     "output_type": "execute_result"
    }
   ],
   "source": [
    "show_scores(model)"
   ]
  },
  {
   "cell_type": "markdown",
   "metadata": {},
   "source": [
    "the `R2 score` has 0.99 score, meaning we can use this model to perform multiple linear regression"
   ]
  },
  {
   "cell_type": "markdown",
   "metadata": {},
   "source": [
    "#### Hyperparameter tuning with RandomizedSearchCV"
   ]
  },
  {
   "cell_type": "code",
   "execution_count": null,
   "metadata": {},
   "outputs": [],
   "source": []
  }
 ],
 "metadata": {
  "kernelspec": {
   "display_name": "Python 3",
   "language": "python",
   "name": "python3"
  },
  "language_info": {
   "codemirror_mode": {
    "name": "ipython",
    "version": 3
   },
   "file_extension": ".py",
   "mimetype": "text/x-python",
   "name": "python",
   "nbconvert_exporter": "python",
   "pygments_lexer": "ipython3",
   "version": "3.10.13"
  }
 },
 "nbformat": 4,
 "nbformat_minor": 2
}
