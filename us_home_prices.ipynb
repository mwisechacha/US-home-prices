{
 "cells": [
  {
   "cell_type": "markdown",
   "metadata": {},
   "source": [
    "## Data Science Model that predicts the price of a house based on its features\n",
    "\n",
    "### 1. Problem definition\n",
    "\n",
    "Can we find a model that explains how these factors affect the use housing prices\n",
    "\n",
    "### 2. Data\n",
    "\n",
    "The data was originally collected from https://fred.stlouisfed.org/series/CSUSHPISA%5D\n",
    "The macroeconomic factors were collected from https://www.kaggle.com/datasets/faryarmemon/usa-housing-market-factors\n",
    "\n",
    "### 3. Evaluation\n",
    "\n",
    "### 4. Features\n",
    "*the data dictionary*\n",
    "\n",
    "Independent Variables\n",
    "1. Date\n",
    "2. Population\n",
    "3. House supply\n",
    "4. GDP\n",
    "5. Morgage rate\n",
    "6. employment rate\n",
    "7. permit new\n",
    "8. ppi res\n",
    "9. m3\n",
    "10. cci\n",
    "11. delinquency rate\n",
    "12. hcai\n",
    "\n",
    "Dependent Vairables\n",
    "1. House_price_index"
   ]
  },
  {
   "cell_type": "code",
   "execution_count": 23,
   "metadata": {},
   "outputs": [],
   "source": [
    "# importing the EDA and ploting libraries\n",
    "import pandas as pd\n",
    "import numpy as np\n",
    "import matplotlib.pyplot as plt\n",
    "import seaborn as sns\n"
   ]
  },
  {
   "cell_type": "markdown",
   "metadata": {},
   "source": [
    "### Load Data"
   ]
  },
  {
   "cell_type": "code",
   "execution_count": 5,
   "metadata": {},
   "outputs": [
    {
     "data": {
      "text/html": [
       "<div>\n",
       "<style scoped>\n",
       "    .dataframe tbody tr th:only-of-type {\n",
       "        vertical-align: middle;\n",
       "    }\n",
       "\n",
       "    .dataframe tbody tr th {\n",
       "        vertical-align: top;\n",
       "    }\n",
       "\n",
       "    .dataframe thead th {\n",
       "        text-align: right;\n",
       "    }\n",
       "</style>\n",
       "<table border=\"1\" class=\"dataframe\">\n",
       "  <thead>\n",
       "    <tr style=\"text-align: right;\">\n",
       "      <th></th>\n",
       "      <th>Date</th>\n",
       "      <th>house_price_index</th>\n",
       "      <th>population</th>\n",
       "      <th>house_supply</th>\n",
       "      <th>gdp</th>\n",
       "      <th>mortgage_rate</th>\n",
       "      <th>employment_rate</th>\n",
       "      <th>permit_new</th>\n",
       "      <th>ppi_res</th>\n",
       "      <th>m3</th>\n",
       "      <th>cci</th>\n",
       "      <th>delinquency_rate</th>\n",
       "      <th>hcai</th>\n",
       "    </tr>\n",
       "  </thead>\n",
       "  <tbody>\n",
       "    <tr>\n",
       "      <th>0</th>\n",
       "      <td>1987-01-01</td>\n",
       "      <td>63.965</td>\n",
       "      <td>241857</td>\n",
       "      <td>6.0</td>\n",
       "      <td>99.902813</td>\n",
       "      <td>9.2040</td>\n",
       "      <td>70.163085</td>\n",
       "      <td>1690.0</td>\n",
       "      <td>100.0</td>\n",
       "      <td>2.7439</td>\n",
       "      <td>100.4624</td>\n",
       "      <td>NaN</td>\n",
       "      <td>NaN</td>\n",
       "    </tr>\n",
       "    <tr>\n",
       "      <th>1</th>\n",
       "      <td>1987-02-01</td>\n",
       "      <td>64.424</td>\n",
       "      <td>242005</td>\n",
       "      <td>6.2</td>\n",
       "      <td>99.875864</td>\n",
       "      <td>9.0825</td>\n",
       "      <td>70.289205</td>\n",
       "      <td>1689.0</td>\n",
       "      <td>100.4</td>\n",
       "      <td>2.7475</td>\n",
       "      <td>100.4945</td>\n",
       "      <td>NaN</td>\n",
       "      <td>NaN</td>\n",
       "    </tr>\n",
       "    <tr>\n",
       "      <th>2</th>\n",
       "      <td>1987-03-01</td>\n",
       "      <td>64.735</td>\n",
       "      <td>242166</td>\n",
       "      <td>6.0</td>\n",
       "      <td>99.869734</td>\n",
       "      <td>9.0350</td>\n",
       "      <td>70.321678</td>\n",
       "      <td>1704.0</td>\n",
       "      <td>100.7</td>\n",
       "      <td>2.7537</td>\n",
       "      <td>100.5720</td>\n",
       "      <td>NaN</td>\n",
       "      <td>NaN</td>\n",
       "    </tr>\n",
       "    <tr>\n",
       "      <th>3</th>\n",
       "      <td>1987-04-01</td>\n",
       "      <td>65.132</td>\n",
       "      <td>242338</td>\n",
       "      <td>6.0</td>\n",
       "      <td>99.882087</td>\n",
       "      <td>9.8325</td>\n",
       "      <td>70.499062</td>\n",
       "      <td>1601.0</td>\n",
       "      <td>101.1</td>\n",
       "      <td>2.7677</td>\n",
       "      <td>100.6568</td>\n",
       "      <td>NaN</td>\n",
       "      <td>NaN</td>\n",
       "    </tr>\n",
       "    <tr>\n",
       "      <th>4</th>\n",
       "      <td>1987-05-01</td>\n",
       "      <td>65.565</td>\n",
       "      <td>242516</td>\n",
       "      <td>6.7</td>\n",
       "      <td>99.910371</td>\n",
       "      <td>10.5960</td>\n",
       "      <td>70.808308</td>\n",
       "      <td>1500.0</td>\n",
       "      <td>101.3</td>\n",
       "      <td>2.7729</td>\n",
       "      <td>100.6919</td>\n",
       "      <td>NaN</td>\n",
       "      <td>NaN</td>\n",
       "    </tr>\n",
       "  </tbody>\n",
       "</table>\n",
       "</div>"
      ],
      "text/plain": [
       "         Date  house_price_index  population  house_supply        gdp  \\\n",
       "0  1987-01-01             63.965      241857           6.0  99.902813   \n",
       "1  1987-02-01             64.424      242005           6.2  99.875864   \n",
       "2  1987-03-01             64.735      242166           6.0  99.869734   \n",
       "3  1987-04-01             65.132      242338           6.0  99.882087   \n",
       "4  1987-05-01             65.565      242516           6.7  99.910371   \n",
       "\n",
       "   mortgage_rate  employment_rate  permit_new  ppi_res      m3       cci  \\\n",
       "0         9.2040        70.163085      1690.0    100.0  2.7439  100.4624   \n",
       "1         9.0825        70.289205      1689.0    100.4  2.7475  100.4945   \n",
       "2         9.0350        70.321678      1704.0    100.7  2.7537  100.5720   \n",
       "3         9.8325        70.499062      1601.0    101.1  2.7677  100.6568   \n",
       "4        10.5960        70.808308      1500.0    101.3  2.7729  100.6919   \n",
       "\n",
       "   delinquency_rate  hcai  \n",
       "0               NaN   NaN  \n",
       "1               NaN   NaN  \n",
       "2               NaN   NaN  \n",
       "3               NaN   NaN  \n",
       "4               NaN   NaN  "
      ]
     },
     "execution_count": 5,
     "metadata": {},
     "output_type": "execute_result"
    }
   ],
   "source": [
    "df = pd.read_csv(\"Housing_Macroeconomic_Factors_US (2).csv\")\n",
    "df.head(5)"
   ]
  },
  {
   "cell_type": "code",
   "execution_count": 24,
   "metadata": {},
   "outputs": [
    {
     "data": {
      "text/plain": [
       "(425, 13)"
      ]
     },
     "execution_count": 24,
     "metadata": {},
     "output_type": "execute_result"
    }
   ],
   "source": [
    "df.shape"
   ]
  },
  {
   "cell_type": "code",
   "execution_count": 25,
   "metadata": {},
   "outputs": [
    {
     "name": "stdout",
     "output_type": "stream",
     "text": [
      "<class 'pandas.core.frame.DataFrame'>\n",
      "RangeIndex: 425 entries, 0 to 424\n",
      "Data columns (total 13 columns):\n",
      " #   Column             Non-Null Count  Dtype         \n",
      "---  ------             --------------  -----         \n",
      " 0   Date               425 non-null    datetime64[ns]\n",
      " 1   house_price_index  425 non-null    float64       \n",
      " 2   population         425 non-null    int64         \n",
      " 3   house_supply       425 non-null    float64       \n",
      " 4   gdp                422 non-null    float64       \n",
      " 5   mortgage_rate      422 non-null    float64       \n",
      " 6   employment_rate    422 non-null    float64       \n",
      " 7   permit_new         422 non-null    float64       \n",
      " 8   ppi_res            422 non-null    float64       \n",
      " 9   m3                 422 non-null    float64       \n",
      " 10  cci                422 non-null    float64       \n",
      " 11  delinquency_rate   374 non-null    float64       \n",
      " 12  hcai               285 non-null    float64       \n",
      "dtypes: datetime64[ns](1), float64(11), int64(1)\n",
      "memory usage: 43.3 KB\n"
     ]
    }
   ],
   "source": [
    "# check for missing values\n",
    "df.info()"
   ]
  },
  {
   "cell_type": "code",
   "execution_count": 26,
   "metadata": {},
   "outputs": [
    {
     "data": {
      "text/plain": [
       "Date                   0\n",
       "house_price_index      0\n",
       "population             0\n",
       "house_supply           0\n",
       "gdp                    3\n",
       "mortgage_rate          3\n",
       "employment_rate        3\n",
       "permit_new             3\n",
       "ppi_res                3\n",
       "m3                     3\n",
       "cci                    3\n",
       "delinquency_rate      51\n",
       "hcai                 140\n",
       "dtype: int64"
      ]
     },
     "execution_count": 26,
     "metadata": {},
     "output_type": "execute_result"
    }
   ],
   "source": [
    "df.isnull().sum()"
   ]
  },
  {
   "cell_type": "markdown",
   "metadata": {},
   "source": [
    "Since gdp, mortgage rate, employment_rate, permit_new, ppi_res, m3, cci each have 3 missing values we will drop the missing values"
   ]
  },
  {
   "cell_type": "code",
   "execution_count": 27,
   "metadata": {},
   "outputs": [],
   "source": [
    "# Check if the columns exist in the dataframe\n",
    "columns_to_drop = ['gdp', 'mortgage_rate', 'employment_rate', 'permit_new', 'ppi_res', 'm3', 'cci']\n",
    "existing_columns = [col for col in columns_to_drop if col in df.columns]\n",
    "\n",
    "# Drop rows with missing values in the existing columns\n",
    "df = df.dropna(subset=existing_columns)"
   ]
  },
  {
   "cell_type": "code",
   "execution_count": 28,
   "metadata": {},
   "outputs": [
    {
     "data": {
      "text/plain": [
       "Date                   0\n",
       "house_price_index      0\n",
       "population             0\n",
       "house_supply           0\n",
       "gdp                    0\n",
       "mortgage_rate          0\n",
       "employment_rate        0\n",
       "permit_new             0\n",
       "ppi_res                0\n",
       "m3                     0\n",
       "cci                    0\n",
       "delinquency_rate      48\n",
       "hcai                 137\n",
       "dtype: int64"
      ]
     },
     "execution_count": 28,
     "metadata": {},
     "output_type": "execute_result"
    }
   ],
   "source": [
    "df.isna().sum()"
   ]
  },
  {
   "cell_type": "markdown",
   "metadata": {},
   "source": [
    "Dropping the rows deliquency rate and hcai would lead to loss of important data, we can either drop the columns or replace the missing values with the mean"
   ]
  },
  {
   "cell_type": "code",
   "execution_count": 29,
   "metadata": {},
   "outputs": [],
   "source": [
    "# replacing missing values with the mean\n",
    "df['delinquency_rate'] = df['delinquency_rate'].fillna(df['delinquency_rate'].mean())\n",
    "df['hcai'] = df['hcai'].fillna(df['hcai'].mean())\n"
   ]
  },
  {
   "cell_type": "code",
   "execution_count": 30,
   "metadata": {},
   "outputs": [
    {
     "data": {
      "text/plain": [
       "Date                 0\n",
       "house_price_index    0\n",
       "population           0\n",
       "house_supply         0\n",
       "gdp                  0\n",
       "mortgage_rate        0\n",
       "employment_rate      0\n",
       "permit_new           0\n",
       "ppi_res              0\n",
       "m3                   0\n",
       "cci                  0\n",
       "delinquency_rate     0\n",
       "hcai                 0\n",
       "dtype: int64"
      ]
     },
     "execution_count": 30,
     "metadata": {},
     "output_type": "execute_result"
    }
   ],
   "source": [
    "df.isna().sum()"
   ]
  },
  {
   "cell_type": "code",
   "execution_count": 31,
   "metadata": {},
   "outputs": [
    {
     "data": {
      "text/html": [
       "<div>\n",
       "<style scoped>\n",
       "    .dataframe tbody tr th:only-of-type {\n",
       "        vertical-align: middle;\n",
       "    }\n",
       "\n",
       "    .dataframe tbody tr th {\n",
       "        vertical-align: top;\n",
       "    }\n",
       "\n",
       "    .dataframe thead th {\n",
       "        text-align: right;\n",
       "    }\n",
       "</style>\n",
       "<table border=\"1\" class=\"dataframe\">\n",
       "  <thead>\n",
       "    <tr style=\"text-align: right;\">\n",
       "      <th></th>\n",
       "      <th>Date</th>\n",
       "      <th>house_price_index</th>\n",
       "      <th>population</th>\n",
       "      <th>house_supply</th>\n",
       "      <th>gdp</th>\n",
       "      <th>mortgage_rate</th>\n",
       "      <th>employment_rate</th>\n",
       "      <th>permit_new</th>\n",
       "      <th>ppi_res</th>\n",
       "      <th>m3</th>\n",
       "      <th>cci</th>\n",
       "      <th>delinquency_rate</th>\n",
       "      <th>hcai</th>\n",
       "    </tr>\n",
       "  </thead>\n",
       "  <tbody>\n",
       "    <tr>\n",
       "      <th>count</th>\n",
       "      <td>422</td>\n",
       "      <td>422.000000</td>\n",
       "      <td>422.00000</td>\n",
       "      <td>422.000000</td>\n",
       "      <td>422.000000</td>\n",
       "      <td>422.000000</td>\n",
       "      <td>422.000000</td>\n",
       "      <td>422.000000</td>\n",
       "      <td>422.000000</td>\n",
       "      <td>422.000000</td>\n",
       "      <td>422.000000</td>\n",
       "      <td>422.000000</td>\n",
       "      <td>422.000000</td>\n",
       "    </tr>\n",
       "    <tr>\n",
       "      <th>mean</th>\n",
       "      <td>2004-07-16 12:40:56.872037888</td>\n",
       "      <td>134.713419</td>\n",
       "      <td>291697.63981</td>\n",
       "      <td>5.797867</td>\n",
       "      <td>99.955457</td>\n",
       "      <td>6.328301</td>\n",
       "      <td>70.759327</td>\n",
       "      <td>1346.962085</td>\n",
       "      <td>166.813685</td>\n",
       "      <td>7.666456</td>\n",
       "      <td>100.124667</td>\n",
       "      <td>3.984947</td>\n",
       "      <td>8.981895</td>\n",
       "    </tr>\n",
       "    <tr>\n",
       "      <th>min</th>\n",
       "      <td>1987-01-01 00:00:00</td>\n",
       "      <td>63.965000</td>\n",
       "      <td>241857.00000</td>\n",
       "      <td>3.300000</td>\n",
       "      <td>91.543057</td>\n",
       "      <td>2.684000</td>\n",
       "      <td>60.261014</td>\n",
       "      <td>513.000000</td>\n",
       "      <td>100.000000</td>\n",
       "      <td>2.743900</td>\n",
       "      <td>96.460330</td>\n",
       "      <td>1.400000</td>\n",
       "      <td>2.293000</td>\n",
       "    </tr>\n",
       "    <tr>\n",
       "      <th>25%</th>\n",
       "      <td>1995-10-08 18:00:00</td>\n",
       "      <td>81.517250</td>\n",
       "      <td>267646.00000</td>\n",
       "      <td>4.400000</td>\n",
       "      <td>99.559318</td>\n",
       "      <td>4.266250</td>\n",
       "      <td>69.317138</td>\n",
       "      <td>1077.250000</td>\n",
       "      <td>133.500000</td>\n",
       "      <td>3.615025</td>\n",
       "      <td>99.106098</td>\n",
       "      <td>2.160000</td>\n",
       "      <td>3.208000</td>\n",
       "    </tr>\n",
       "    <tr>\n",
       "      <th>50%</th>\n",
       "      <td>2004-07-16 12:00:00</td>\n",
       "      <td>139.230500</td>\n",
       "      <td>293476.50000</td>\n",
       "      <td>5.450000</td>\n",
       "      <td>99.977924</td>\n",
       "      <td>6.257250</td>\n",
       "      <td>71.221613</td>\n",
       "      <td>1362.000000</td>\n",
       "      <td>154.750000</td>\n",
       "      <td>6.297450</td>\n",
       "      <td>100.498000</td>\n",
       "      <td>2.840000</td>\n",
       "      <td>8.981895</td>\n",
       "    </tr>\n",
       "    <tr>\n",
       "      <th>75%</th>\n",
       "      <td>2013-04-23 12:00:00</td>\n",
       "      <td>174.215750</td>\n",
       "      <td>316680.50000</td>\n",
       "      <td>6.700000</td>\n",
       "      <td>100.556927</td>\n",
       "      <td>7.912000</td>\n",
       "      <td>72.281388</td>\n",
       "      <td>1614.750000</td>\n",
       "      <td>207.400000</td>\n",
       "      <td>10.617625</td>\n",
       "      <td>101.063150</td>\n",
       "      <td>3.984947</td>\n",
       "      <td>10.491000</td>\n",
       "    </tr>\n",
       "    <tr>\n",
       "      <th>max</th>\n",
       "      <td>2022-02-01 00:00:00</td>\n",
       "      <td>290.371000</td>\n",
       "      <td>332750.00000</td>\n",
       "      <td>12.200000</td>\n",
       "      <td>101.825852</td>\n",
       "      <td>11.260000</td>\n",
       "      <td>74.507436</td>\n",
       "      <td>2263.000000</td>\n",
       "      <td>303.546000</td>\n",
       "      <td>21.749700</td>\n",
       "      <td>102.977600</td>\n",
       "      <td>11.360000</td>\n",
       "      <td>21.774000</td>\n",
       "    </tr>\n",
       "    <tr>\n",
       "      <th>std</th>\n",
       "      <td>NaN</td>\n",
       "      <td>52.027280</td>\n",
       "      <td>28081.13867</td>\n",
       "      <td>1.685884</td>\n",
       "      <td>1.124453</td>\n",
       "      <td>2.209432</td>\n",
       "      <td>2.247253</td>\n",
       "      <td>394.776877</td>\n",
       "      <td>43.943882</td>\n",
       "      <td>4.656247</td>\n",
       "      <td>1.466327</td>\n",
       "      <td>2.741686</td>\n",
       "      <td>5.630835</td>\n",
       "    </tr>\n",
       "  </tbody>\n",
       "</table>\n",
       "</div>"
      ],
      "text/plain": [
       "                                Date  house_price_index    population  \\\n",
       "count                            422         422.000000     422.00000   \n",
       "mean   2004-07-16 12:40:56.872037888         134.713419  291697.63981   \n",
       "min              1987-01-01 00:00:00          63.965000  241857.00000   \n",
       "25%              1995-10-08 18:00:00          81.517250  267646.00000   \n",
       "50%              2004-07-16 12:00:00         139.230500  293476.50000   \n",
       "75%              2013-04-23 12:00:00         174.215750  316680.50000   \n",
       "max              2022-02-01 00:00:00         290.371000  332750.00000   \n",
       "std                              NaN          52.027280   28081.13867   \n",
       "\n",
       "       house_supply         gdp  mortgage_rate  employment_rate   permit_new  \\\n",
       "count    422.000000  422.000000     422.000000       422.000000   422.000000   \n",
       "mean       5.797867   99.955457       6.328301        70.759327  1346.962085   \n",
       "min        3.300000   91.543057       2.684000        60.261014   513.000000   \n",
       "25%        4.400000   99.559318       4.266250        69.317138  1077.250000   \n",
       "50%        5.450000   99.977924       6.257250        71.221613  1362.000000   \n",
       "75%        6.700000  100.556927       7.912000        72.281388  1614.750000   \n",
       "max       12.200000  101.825852      11.260000        74.507436  2263.000000   \n",
       "std        1.685884    1.124453       2.209432         2.247253   394.776877   \n",
       "\n",
       "          ppi_res          m3         cci  delinquency_rate        hcai  \n",
       "count  422.000000  422.000000  422.000000        422.000000  422.000000  \n",
       "mean   166.813685    7.666456  100.124667          3.984947    8.981895  \n",
       "min    100.000000    2.743900   96.460330          1.400000    2.293000  \n",
       "25%    133.500000    3.615025   99.106098          2.160000    3.208000  \n",
       "50%    154.750000    6.297450  100.498000          2.840000    8.981895  \n",
       "75%    207.400000   10.617625  101.063150          3.984947   10.491000  \n",
       "max    303.546000   21.749700  102.977600         11.360000   21.774000  \n",
       "std     43.943882    4.656247    1.466327          2.741686    5.630835  "
      ]
     },
     "execution_count": 31,
     "metadata": {},
     "output_type": "execute_result"
    }
   ],
   "source": [
    "df.describe()"
   ]
  },
  {
   "cell_type": "markdown",
   "metadata": {},
   "source": [
    "### Performing EDA with the date column\n",
    "`parse-date` parameter should be passed will loading the data"
   ]
  },
  {
   "cell_type": "code",
   "execution_count": 22,
   "metadata": {},
   "outputs": [],
   "source": [
    "df = pd.read_csv(\"Housing_Macroeconomic_Factors_US (2).csv\",\n",
    "                 parse_dates=['Date'])"
   ]
  },
  {
   "cell_type": "code",
   "execution_count": 33,
   "metadata": {},
   "outputs": [
    {
     "data": {
      "text/plain": [
       "dtype('<M8[ns]')"
      ]
     },
     "execution_count": 33,
     "metadata": {},
     "output_type": "execute_result"
    }
   ],
   "source": [
    "df.Date.dtype"
   ]
  },
  {
   "cell_type": "code",
   "execution_count": 37,
   "metadata": {},
   "outputs": [
    {
     "data": {
      "text/plain": [
       "<matplotlib.collections.PathCollection at 0x181bd227bb0>"
      ]
     },
     "execution_count": 37,
     "metadata": {},
     "output_type": "execute_result"
    },
    {
     "data": {
      "image/png": "[encoded data removed]",
      "text/plain": [
       "<Figure size 1000x600 with 1 Axes>"
      ]
     },
     "metadata": {},
     "output_type": "display_data"
    }
   ],
   "source": [
    "fig, ax = plt.subplots(figsize=(10, 6))\n",
    "ax.scatter(df['Date'], df['house_price_index'])"
   ]
  },
  {
   "cell_type": "code",
   "execution_count": 38,
   "metadata": {},
   "outputs": [
    {
     "data": {
      "text/html": [
       "<div>\n",
       "<style scoped>\n",
       "    .dataframe tbody tr th:only-of-type {\n",
       "        vertical-align: middle;\n",
       "    }\n",
       "\n",
       "    .dataframe tbody tr th {\n",
       "        vertical-align: top;\n",
       "    }\n",
       "\n",
       "    .dataframe thead th {\n",
       "        text-align: right;\n",
       "    }\n",
       "</style>\n",
       "<table border=\"1\" class=\"dataframe\">\n",
       "  <thead>\n",
       "    <tr style=\"text-align: right;\">\n",
       "      <th></th>\n",
       "      <th>Date</th>\n",
       "      <th>house_price_index</th>\n",
       "      <th>population</th>\n",
       "      <th>house_supply</th>\n",
       "      <th>gdp</th>\n",
       "      <th>mortgage_rate</th>\n",
       "      <th>employment_rate</th>\n",
       "      <th>permit_new</th>\n",
       "      <th>ppi_res</th>\n",
       "      <th>m3</th>\n",
       "      <th>cci</th>\n",
       "      <th>delinquency_rate</th>\n",
       "      <th>hcai</th>\n",
       "    </tr>\n",
       "  </thead>\n",
       "  <tbody>\n",
       "    <tr>\n",
       "      <th>0</th>\n",
       "      <td>1987-01-01</td>\n",
       "      <td>63.965</td>\n",
       "      <td>241857</td>\n",
       "      <td>6.0</td>\n",
       "      <td>99.902813</td>\n",
       "      <td>9.2040</td>\n",
       "      <td>70.163085</td>\n",
       "      <td>1690.0</td>\n",
       "      <td>100.0</td>\n",
       "      <td>2.7439</td>\n",
       "      <td>100.4624</td>\n",
       "      <td>3.984947</td>\n",
       "      <td>8.981895</td>\n",
       "    </tr>\n",
       "    <tr>\n",
       "      <th>1</th>\n",
       "      <td>1987-02-01</td>\n",
       "      <td>64.424</td>\n",
       "      <td>242005</td>\n",
       "      <td>6.2</td>\n",
       "      <td>99.875864</td>\n",
       "      <td>9.0825</td>\n",
       "      <td>70.289205</td>\n",
       "      <td>1689.0</td>\n",
       "      <td>100.4</td>\n",
       "      <td>2.7475</td>\n",
       "      <td>100.4945</td>\n",
       "      <td>3.984947</td>\n",
       "      <td>8.981895</td>\n",
       "    </tr>\n",
       "    <tr>\n",
       "      <th>2</th>\n",
       "      <td>1987-03-01</td>\n",
       "      <td>64.735</td>\n",
       "      <td>242166</td>\n",
       "      <td>6.0</td>\n",
       "      <td>99.869734</td>\n",
       "      <td>9.0350</td>\n",
       "      <td>70.321678</td>\n",
       "      <td>1704.0</td>\n",
       "      <td>100.7</td>\n",
       "      <td>2.7537</td>\n",
       "      <td>100.5720</td>\n",
       "      <td>3.984947</td>\n",
       "      <td>8.981895</td>\n",
       "    </tr>\n",
       "    <tr>\n",
       "      <th>3</th>\n",
       "      <td>1987-04-01</td>\n",
       "      <td>65.132</td>\n",
       "      <td>242338</td>\n",
       "      <td>6.0</td>\n",
       "      <td>99.882087</td>\n",
       "      <td>9.8325</td>\n",
       "      <td>70.499062</td>\n",
       "      <td>1601.0</td>\n",
       "      <td>101.1</td>\n",
       "      <td>2.7677</td>\n",
       "      <td>100.6568</td>\n",
       "      <td>3.984947</td>\n",
       "      <td>8.981895</td>\n",
       "    </tr>\n",
       "    <tr>\n",
       "      <th>4</th>\n",
       "      <td>1987-05-01</td>\n",
       "      <td>65.565</td>\n",
       "      <td>242516</td>\n",
       "      <td>6.7</td>\n",
       "      <td>99.910371</td>\n",
       "      <td>10.5960</td>\n",
       "      <td>70.808308</td>\n",
       "      <td>1500.0</td>\n",
       "      <td>101.3</td>\n",
       "      <td>2.7729</td>\n",
       "      <td>100.6919</td>\n",
       "      <td>3.984947</td>\n",
       "      <td>8.981895</td>\n",
       "    </tr>\n",
       "  </tbody>\n",
       "</table>\n",
       "</div>"
      ],
      "text/plain": [
       "        Date  house_price_index  population  house_supply        gdp  \\\n",
       "0 1987-01-01             63.965      241857           6.0  99.902813   \n",
       "1 1987-02-01             64.424      242005           6.2  99.875864   \n",
       "2 1987-03-01             64.735      242166           6.0  99.869734   \n",
       "3 1987-04-01             65.132      242338           6.0  99.882087   \n",
       "4 1987-05-01             65.565      242516           6.7  99.910371   \n",
       "\n",
       "   mortgage_rate  employment_rate  permit_new  ppi_res      m3       cci  \\\n",
       "0         9.2040        70.163085      1690.0    100.0  2.7439  100.4624   \n",
       "1         9.0825        70.289205      1689.0    100.4  2.7475  100.4945   \n",
       "2         9.0350        70.321678      1704.0    100.7  2.7537  100.5720   \n",
       "3         9.8325        70.499062      1601.0    101.1  2.7677  100.6568   \n",
       "4        10.5960        70.808308      1500.0    101.3  2.7729  100.6919   \n",
       "\n",
       "   delinquency_rate      hcai  \n",
       "0          3.984947  8.981895  \n",
       "1          3.984947  8.981895  \n",
       "2          3.984947  8.981895  \n",
       "3          3.984947  8.981895  \n",
       "4          3.984947  8.981895  "
      ]
     },
     "execution_count": 38,
     "metadata": {},
     "output_type": "execute_result"
    }
   ],
   "source": [
    "df.head(5)"
   ]
  },
  {
   "cell_type": "code",
   "execution_count": null,
   "metadata": {},
   "outputs": [],
   "source": []
  }
 ],
 "metadata": {
  "kernelspec": {
   "display_name": "Python 3",
   "language": "python",
   "name": "python3"
  },
  "language_info": {
   "codemirror_mode": {
    "name": "ipython",
    "version": 3
   },
   "file_extension": ".py",
   "mimetype": "text/x-python",
   "name": "python",
   "nbconvert_exporter": "python",
   "pygments_lexer": "ipython3",
   "version": "3.10.13"
  }
 },
 "nbformat": 4,
 "nbformat_minor": 2
}
